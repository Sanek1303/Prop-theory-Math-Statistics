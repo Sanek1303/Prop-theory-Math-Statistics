{
 "cells": [
  {
   "cell_type": "markdown",
   "metadata": {},
   "source": [
    "***Занятие 2. Выборочные моменты и их свойства. Другие выборочные характеристики***"
   ]
  },
  {
   "cell_type": "markdown",
   "metadata": {},
   "source": [
    "Пусть $X=(X_1,...,X_n)$ – выборка из $L(Y)$. Будем считать, что статистическая модель $F$ – параметрическая, т.е. $F = \\{F(x, \\theta), \\theta \\in \\Theta \\subseteq R^m \\}$. При этом значение параметра $\\theta$ неизвестно, и сам параметр предполагается детерминированным. В качестве практической задачи обычно выступает приближенное определение (оценивание) некоторой известной функции $\\tau(\\theta)$ по наблюдению выборки $X$. В качестве оценок выступает любая статистика $T(X)$ – функция выборки. Однако, оценки обладают разными свойствами."
   ]
  },
  {
   "cell_type": "markdown",
   "metadata": {},
   "source": [
    "***Определение 1.*** Оценка $T(X)$ называется несмещенной оценкой функции $\\tau(\\theta)$, если \n",
    "\n",
    "$$E[T(X) - \\tau(\\theta)] = 0 $$\n",
    "\n",
    "Если $E[T(X) - \\tau(\\theta)] \\ne  0 $, но $E[T(X) - \\tau(\\theta)] \\rightarrow 0 $ при $n \\rightarrow \\infty$, то оценка называется асимптотически несмещенной.\n"
   ]
  },
  {
   "cell_type": "markdown",
   "metadata": {},
   "source": [
    "***Определение 2.*** Оценка $T(X)$ называется состоятельной оценкой функции $\\tau(\\theta)$, если \n",
    "\n",
    "$$ T(x) \\xrightarrow{p} \\tau(\\theta)  $$ при \n",
    "$$ n \\rightarrow \\infty $$\n",
    "\n",
    "Если $ T(x) \\xrightarrow{c.к.} \\tau(\\theta)$ при $n \\rightarrow \\infty$, то оценка называется состоятельной в среднем квадратическом смысле (СК-состоятельной).  \n",
    "Если $ T(x) \\xrightarrow{п.н.} \\tau(\\theta)$ при $n \\rightarrow \\infty$, то оценка называется сильно состоятельной. "
   ]
  },
  {
   "cell_type": "markdown",
   "metadata": {},
   "source": [
    "**Определение 3.** Если оценка $T^{*}(X)$ такова, что\n",
    "\n",
    "   (1) $$E[T^{*}(X) - \\tau(\\theta)] \\leq E[T(X) - \\tau(\\theta)] $$ \n",
    "\n",
    "для любой другой оценки $T(X)$, то $T^{*}(X)$ называется оптимальной в среднем квадратическом смысле (СК-оптимальной) оценкой. Если неравенство (1) выполняется только в случае, когда оценка является аффинной функцией наблюдений:\n",
    "\n",
    "$$ T(x) = \\sum_{k = 1}^{n} a_kX_k + b$$\n",
    "\n",
    "то $T^{*}(X)$ называется СК-оптимальной линейной оценкой.\n",
    "\n",
    "Если $F = \\{F(x, \\theta), \\theta \\in \\Theta \\subseteq R^m \\}$, то оцениваемая функция $\\tau(\\theta)$ может представлять момент некоторой функции Y: \n",
    "\n",
    "(2) $$\\tau(\\theta) = E[g(Y)] = \\int g(x)dF(x, \\theta) $$"
   ]
  },
  {
   "cell_type": "markdown",
   "metadata": {},
   "source": [
    "**Определение 4** Статистика   \n",
    "\n",
    "(3)\n",
    "$$ \\bar g_n(X) = \\frac{1}{n}\\sum_{k = 1}^{n} g(X_k)$$ \n",
    "\n",
    "называется выборочным моментом, соответствующим функции g(x). В частном случае\n",
    "\n",
    "$$ \\bar X_n = \\frac{1}{n}\\sum_{k = 1}^{n} X_k $$ \n",
    " -выборочное среднее\n",
    " \n",
    "$$ A_{nm} = \\frac{1}{n}\\sum_{k = 1}^{n} X_k^m $$ \n",
    "-выборочный начальный момент m-го порядка\n",
    "\n",
    "$$ \\mu_{nm} = \\frac{1}{n}\\sum_{k = 1}^{n} (X_k-\\bar X_n)^m $$ \n",
    "-выборочный центральный момент n-го порядка"
   ]
  },
  {
   "cell_type": "markdown",
   "metadata": {},
   "source": [
    "**Замечание 1.** Если момент (2) – конечен (т.е. функция $g(x)$ абсолютно интегрируема по $F(x,\\theta)$, то оценка (3) является несмещенной и сильно состоятельной, что важно на практике."
   ]
  },
  {
   "cell_type": "markdown",
   "metadata": {},
   "source": [
    "**Задача 1.** Для выборочного среднего и дисперсии проверить свойство несмещенности (для дисперсии рассмотреть 2 случая: среднее известно и неизвестно). Какие условия гарантируют состоятельность оценки дисперсии?"
   ]
  },
  {
   "cell_type": "markdown",
   "metadata": {},
   "source": [
    "1) Несмещенность среднего, если м.о. известно и равно m:\n",
    "\n",
    "$$ E[\\bar x - m] = \\frac{1}{n}\\sum_{i = 1}^{n} E[x_i] - E[m] = \\frac{1}{n} \\cdot n \\cdot m - m = 0$$\n",
    "\n",
    "2) C.к. состоятельность для среднего:\n",
    "\n",
    "$$ E[(\\bar x - m)^2] = E[(\\frac{1}{n}\\sum_{i = 1}^{n}x_i - m)^2] = \\frac{1}{n^2} E[\\sum_{i = 1}^{n} (x_i - m)^2] = \\frac{1}{n} \\sigma ^ 2$$\n",
    "\n",
    "отметим, что переход от квадрата суммы к сумме квадратов мы можем сделать, так как $x_i - m$ и $x_j - m$ независимы\n",
    "и $E[(x_i - m)(x_j - m)] = 0 \\, \\forall i \\ne j$\n",
    "\n",
    "3) Знаем m, исследуем выборочную дисперсию на несмещенность:\n",
    "    $$E[ \\frac{1}{n}\\sum_{i = 1}^{n} (x_i - m)^2 - \\sigma^2] = \\frac{1}{n}\\sum_{i = 1}^{n} E[(x_i - m)^2] - \\sigma^2 = \\frac{1}{n} \\cdot n \\cdot \\sigma^2 - \\sigma ^ 2 = 0$$\n",
    "    \n",
    "4) Исследуем на состоятельность, не будем особо париться и просто вспомним, что есть УЗБЧ:\n",
    "\n",
    "$$ \\frac{1}{n} \\sum_{i = 1}^{n} E[(x_i - m)^2] \\xrightarrow{п.н.} \\sigma^2 $$\n",
    "при $n \\rightarrow \\infty$\n",
    "\n",
    "5) Что, если мы не знаем м.о., вот тут будет интересно (наверное), несмещенность :\n",
    "$$E[\\frac{1}{n} \\sum_{k = 1}^{n} (x_k - \\bar x)^2 - \\sigma^2] = E[\\frac{1}{n} \\sum_{k = 1}^{n} (\\mathring{x_k} - \\mathring{\\bar x})^2 - \\sigma^2] = E[\\frac{1}{n} \\sum_{k = 1}^{n} (\\mathring{x_k}^2 - 2\\mathring{x_k}\\mathring{\\bar{x}} + \\mathring{\\bar{x}}^2) - \\sigma^2] = E[-\\frac{2}{n^2}\\sum_{k = 1}^{n} \\mathring{x_k}\\sum_{k = j}^{n} \\mathring{x_j} + \\mathring{\\bar{x}}^2] = $$\n",
    "\n",
    "$$ = -\\frac{2}{n^2} \\sum_{k, j = 1}^{n} E[\\mathring{x_k}\\mathring{x_j}] + E[\\big( \\frac{1}{n}\\sum_{k = 1}^{n} \\mathring{x_k} \\big)] = -\\frac{2}{n} \\sigma^2 + E[\\sum_{k, j = 1}^{n} \\mathring{x_k}\\mathring{x_j}] = -\\frac{\\sigma^2}{n}$$\n",
    "\n",
    "Выохдит, что наша оценка асимптотически несмещенная, давайте это исправим:   \n",
    "Обозначим:\n",
    "$$ \\mu_{n2} = \\frac{1}{n} \\sum_{k = 1}^{n} (x_k - \\bar x)^2 $$  \n",
    "Тогда:  \n",
    "$$ E[\\mu_{n2}] = -\\frac{\\sigma^2}{n} + \\sigma^2 = \\sigma^2 \\big(\\frac{n-1}{n} \\big) \\Rightarrow \\sigma^2 = \\frac{n}{n-1}E[\\mu_{n2}]$$  \n",
    "Поэтому, если мы переобозначим $\\mu_{n2}$, то оценка станет несмещенной:\n",
    "$$ \\mu_{n2} = \\frac{1}{n-1} \\sum_{k = 1}^{n} (x_k - \\bar x)^2 $$  "
   ]
  },
  {
   "cell_type": "markdown",
   "metadata": {},
   "source": [
    "**Задача 2.** Построить несмещенную оценку характеристической функции.\n",
    "Можно взять $T(X) = e^{itX_1}$. Получим:\n",
    "\n",
    "$$ E[E[e^{it\\xi}] - e^{itX_1}] = E[e^{it\\xi}] - E[e^{itX_1}] = 0 $$\n",
    "\n",
    "Т.к. $\\xi$ и $X_1$ одинаково распределены"
   ]
  },
  {
   "cell_type": "markdown",
   "metadata": {},
   "source": [
    "**Задача 3.** Построить несмещенную оценку коэффициента ковариации между случайными величинами X и Y. Рассмотреть два случая: теоретические средние X и Y известны и неизвестны."
   ]
  },
  {
   "cell_type": "markdown",
   "metadata": {},
   "source": [
    "**Задача 4.** Методом моментов оценить параметры равномерного распределения."
   ]
  },
  {
   "cell_type": "markdown",
   "metadata": {},
   "source": [
    "$$ b = A_{n1} + \\sqrt{3A_{n2} - 3A_{n1}^2}$$\n",
    "$$ a = A_{n1} - \\sqrt{3A_{n2} - 3A_{n1}^2}$$"
   ]
  },
  {
   "cell_type": "code",
   "execution_count": 2,
   "metadata": {},
   "outputs": [
    {
     "name": "stdout",
     "output_type": "stream",
     "text": [
      "n = 100, b = 20.374786849488505\n",
      "n = 100, a = 10.322136802652864\n",
      "n = 100_000, b = 20.00131270346366\n",
      "n = 100_000, a = 10.011025617619337\n"
     ]
    }
   ],
   "source": [
    "import numpy as np\n",
    "a, b = 10, 20\n",
    "n1 = 100\n",
    "n2 = 100000\n",
    "\n",
    "unif1 = np.array([np.random.uniform(a, b) for i in range(n1)])\n",
    "unif2 = np.array([np.random.uniform(a, b) for i in range(n2)])\n",
    "\n",
    "A_n_1 = np.mean(unif1)\n",
    "A_n_2 = np.mean(unif1**2)\n",
    "print(\"n = 100, b =\",A_n_1 + np.sqrt(3*A_n_2 - 3*A_n_1**2))\n",
    "print(\"n = 100, a =\",A_n_1 - np.sqrt(3*A_n_2 - 3*A_n_1**2))\n",
    "\n",
    "A_n_1 = np.mean(unif2)\n",
    "A_n_2 = np.mean(unif2**2)\n",
    "print(\"n = 100_000, b =\",A_n_1 + np.sqrt(3*A_n_2 - 3*A_n_1**2))\n",
    "print(\"n = 100_000, a =\",A_n_1 - np.sqrt(3*A_n_2 - 3*A_n_1**2))\n",
    "\n"
   ]
  },
  {
   "cell_type": "markdown",
   "metadata": {},
   "source": [
    "**Задача 5.** Методом моментов оценить параметры экспоненциального и сдвинутого экспоненциального распределений."
   ]
  },
  {
   "cell_type": "markdown",
   "metadata": {},
   "source": [
    "$$\\lambda = \\frac{1}{A_{n1}}$$"
   ]
  },
  {
   "cell_type": "code",
   "execution_count": 3,
   "metadata": {},
   "outputs": [
    {
     "name": "stdout",
     "output_type": "stream",
     "text": [
      "n = 100, lambda =  5.957261017126254\n",
      "n = 100_000, lambda =  5.029298401824499\n"
     ]
    }
   ],
   "source": [
    "lambd = 5\n",
    "def F_inv(x, lambd):\n",
    "    return 1/lambd*np.log(1/(1-x))\n",
    "\n",
    "exp1 = np.array([F_inv(np.random.uniform(), lambd) for i in range(n1)])\n",
    "exp2 = np.array([F_inv(np.random.uniform(), lambd) for i in range(n2)])\n",
    "\n",
    "print(\"n = 100, lambda = \", 1/np.mean(exp1))\n",
    "print(\"n = 100_000, lambda = \", 1/np.mean(exp2))"
   ]
  },
  {
   "cell_type": "markdown",
   "metadata": {},
   "source": [
    "$$ \\lambda =  \\sqrt{\\frac{1}{A_{n2} - A_{n1}^2}}$$\n",
    "$$ b = A_{n1} - \\sqrt{A_{n2} - A_{n1}^2}$$"
   ]
  },
  {
   "cell_type": "code",
   "execution_count": 4,
   "metadata": {},
   "outputs": [
    {
     "name": "stdout",
     "output_type": "stream",
     "text": [
      "n = 100, lambda =  5.150833555142598\n",
      "n = 100, b =  2.011318788330175\n",
      "n = 100_000, lambda =  4.990940556065061\n",
      "n = 100_000, b =  2.0000447047020957\n"
     ]
    }
   ],
   "source": [
    "lambd = 5\n",
    "b = 2\n",
    "def F_inv(x, lambd, b):\n",
    "    return 1/lambd*np.log(1/(1-x)) + b\n",
    "\n",
    "exp1 = np.array([F_inv(np.random.uniform(), lambd, b) for i in range(n1)])\n",
    "exp2 = np.array([F_inv(np.random.uniform(), lambd, b) for i in range(n2)])\n",
    "\n",
    "A_n_1 = np.mean(exp1)\n",
    "A_n_2 = np.mean(exp1**2)\n",
    "\n",
    "print(\"n = 100, lambda = \", np.sqrt(1/(A_n_2 - A_n_1**2)))\n",
    "print(\"n = 100, b = \", A_n_1 - np.sqrt(A_n_2 - A_n_1**2))\n",
    "\n",
    "\n",
    "A_n_1 = np.mean(exp2)\n",
    "A_n_2 = np.mean(exp2**2)\n",
    "\n",
    "print(\"n = 100_000, lambda = \", np.sqrt(1/(A_n_2 - A_n_1**2)))\n",
    "print(\"n = 100_000, b = \", A_n_1 - np.sqrt(A_n_2 - A_n_1**2))"
   ]
  },
  {
   "cell_type": "markdown",
   "metadata": {},
   "source": [
    "**Задача 6.** Плотность распределения Коши имеет вид\n",
    "\n",
    "$$ f_X(x) = \\frac{1}{\\pi} \\cdot \\frac{\\gamma}{(x-x_0)^2+ \\gamma^2}$$\n",
    "\n",
    "А функция распределения :\n",
    "\n",
    "$$ F_X(x) = \\frac{1}{\\pi} arctg(\\frac{x-x_0}{\\gamma}) + \\frac{1}{2}$$\n",
    "\n",
    "Подобрать функции $g_1(x)$ и $g_2(x)$, так, чтобы с помощью соответствующих моментов методом моментов можно было оценить параметры сдвига и масштаба распределения Коши.\n"
   ]
  },
  {
   "cell_type": "markdown",
   "metadata": {},
   "source": [
    "Возьмем $g_1(x) = I(x < 0)$ и $g_2(x) = I(x < a)$, тогда наши моменты будут значениями $F(0)$ и $F(a)$\n",
    "Обозначим $A_{n1}$ и $A_{n2}$ выборочное среднее от $g_1$ и $g_2$ соответственно, тогда :  \n",
    "\n",
    "$$ A_{n1} = \\frac{1}{2} + arctan\\big(-\\frac{x_0}{\\gamma} \\big)$$\n",
    "$$ A_{n2} = \\frac{1}{2} + arctan\\big(\\frac{a - x_0}{\\gamma} \\big)$$\n",
    "\n",
    "Тогда: \n",
    "\n",
    "$$ \\gamma = \\frac{a}{tg(\\pi(A_{n2} - 0.5))  - tg(\\pi(A_{n1} - 0.5))}$$\n",
    "\n",
    "$$ x_0 =  \\frac{-a \\cdot tg(\\pi(A_{n1} - 0.5))}{tg(\\pi(A_{n2} - 0.5))  - tg(\\pi(A_{n1} - 0.5))} $$"
   ]
  },
  {
   "cell_type": "code",
   "execution_count": 70,
   "metadata": {},
   "outputs": [
    {
     "data": {
      "image/png": "[encoded data removed]",
      "text/plain": [
       "<Figure size 1152x648 with 1 Axes>"
      ]
     },
     "metadata": {
      "needs_background": "light"
     },
     "output_type": "display_data"
    },
    {
     "name": "stdout",
     "output_type": "stream",
     "text": [
      "n = 100_000, gamma = 2.021635321332323\n",
      "n = 100, gamma = 1.540001225518503\n",
      "n = 100_000, x_0 = 1.0044458154384286\n",
      "n = 100, x_0 = 1.1945473976259973\n"
     ]
    }
   ],
   "source": [
    "import matplotlib.pyplot as plt\n",
    "gamma = 2\n",
    "x_0 = 1\n",
    "a = 1\n",
    "\n",
    "def F_kosh(x, gamma, x_0):\n",
    "    return 1/np.pi * np.arctan((x - x_0)/gamma) + 0.5\n",
    "\n",
    "def F_inv(x, gamma, x_0):\n",
    "    return np.tan((x - 0.5)*np.pi)*gamma + x_0\n",
    "\n",
    "kosh_1 = np.array([F_inv(np.random.uniform(), gamma, x_0) for i in range(n1)])\n",
    "kosh_2 = np.array([F_inv(np.random.uniform(), gamma, x_0) for i in range(n2)])\n",
    "\n",
    "Mean1_n1 = np.mean(kosh_1 < 0)\n",
    "Mean2_n1 = np.mean(kosh_1 < a)\n",
    "\n",
    "Mean1_n2 = np.mean(kosh_2 < 0)\n",
    "Mean2_n2 = np.mean(kosh_2 < a)\n",
    "\n",
    "\n",
    "def Emp_dist_func(X, x):\n",
    "    #длина выборки\n",
    "    n = len(X)\n",
    "    return np.sum(X < x) / n\n",
    "\n",
    "\n",
    "x = np.linspace(-10 + x_0, 10 + x_0, 100)\n",
    "y = F_kosh(x, gamma, x_0)\n",
    "y_1 = np.array([Emp_dist_func(kosh_2, item) for item in x])\n",
    "plt.figure(figsize = (16, 9))\n",
    "plt.plot(x, y)\n",
    "plt.plot(x, y_1)\n",
    "plt.show()\n",
    "\n",
    "print(\"n = 100_000, gamma =\", a/(np.tan(np.pi*(Mean2_n2 - 0.5)) - np.tan(np.pi*(Mean1_n2 - 0.5))))\n",
    "print(\"n = 100, gamma =\", a/(np.tan(np.pi*(Mean2_n1 - 0.5)) - np.tan(np.pi*(Mean1_n1 - 0.5))))\n",
    "print(\"n = 100_000, x_0 =\", a/(np.tan(np.pi*(Mean2_n2 - 0.5)) - np.tan(np.pi*(Mean1_n2 - 0.5))) * (-np.tan(np.pi*(Mean1_n2 - 0.5))))\n",
    "print(\"n = 100, x_0 =\", a/(np.tan(np.pi*(Mean2_n1 - 0.5)) - np.tan(np.pi*(Mean1_n1 - 0.5))) * (-np.tan(np.pi*(Mean1_n1 - 0.5))))\n"
   ]
  }
 ],
 "metadata": {
  "kernelspec": {
   "display_name": "Python 3",
   "language": "python",
   "name": "python3"
  },
  "language_info": {
   "codemirror_mode": {
    "name": "ipython",
    "version": 3
   },
   "file_extension": ".py",
   "mimetype": "text/x-python",
   "name": "python",
   "nbconvert_exporter": "python",
   "pygments_lexer": "ipython3",
   "version": "3.7.9"
  }
 },
 "nbformat": 4,
 "nbformat_minor": 4
}
